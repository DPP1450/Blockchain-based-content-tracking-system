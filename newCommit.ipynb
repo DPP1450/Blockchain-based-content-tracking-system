{
 "cells": [
  {
   "cell_type": "code",
   "execution_count": 19,
   "metadata": {},
   "outputs": [],
   "source": [
    "from web3 import Web3\n",
    "import json\n",
    "import IPFS_API\n",
    "web3 = Web3(Web3.HTTPProvider(\"http://localhost:8545\"))\n",
    "assert web3.isConnected()\n",
    "FILE_NAME = \"./test.txt\"\n",
    "SELECT_PROJECT = 0\n",
    "LOG = \"nice!!!!!!!!!!!!!!!!!!!!!\""
   ]
  },
  {
   "cell_type": "code",
   "execution_count": 20,
   "metadata": {},
   "outputs": [],
   "source": [
    "with open (\"contract/abi.json\") as f:\n",
    "    contract_abi = f.read()\n",
    "with open(\"config.json\") as f:\n",
    "    config = json.load(f)\n",
    "contract_address = config[\"contract_address\"]\n",
    "contract = web3.eth.contract(address=contract_address, abi=contract_abi)"
   ]
  },
  {
   "cell_type": "code",
   "execution_count": 21,
   "metadata": {},
   "outputs": [
    {
     "name": "stdout",
     "output_type": "stream",
     "text": [
      "address : 0xa508dD875f10C33C52a8abb20E16fc68E981F186\n"
     ]
    }
   ],
   "source": [
    "private_key = \"0x22aabb811efca4e6f4748bd18a46b502fa85549df9fa07da649c0a148d7d5530\"\n",
    "account = web3.eth.account.from_key(private_key)\n",
    "web3.eth.default_account = account.address\n",
    "print(\"address : %s\" % account.address)\n",
    "nonce = web3.eth.getTransactionCount(account.address)"
   ]
  },
  {
   "cell_type": "code",
   "execution_count": 22,
   "metadata": {},
   "outputs": [
    {
     "name": "stdout",
     "output_type": "stream",
     "text": [
      "1. project2\n",
      "2. project1\n"
     ]
    }
   ],
   "source": [
    "projects = contract.functions.get_all_projects_name().call()\n",
    "if (len(projects) < SELECT_PROJECT):\n",
    "    print (\"Index out of bound\")\n",
    "for idx,p in enumerate(projects):\n",
    "    print(\"%d. %s\" % (idx+1,p))\n"
   ]
  },
  {
   "cell_type": "code",
   "execution_count": 23,
   "metadata": {},
   "outputs": [],
   "source": [
    "tx_params = {\n",
    "    'nonce': nonce,\n",
    "    'gasPrice': web3.eth.gas_price,\n",
    "    'gas': 5000000, \n",
    "}"
   ]
  },
  {
   "cell_type": "code",
   "execution_count": 24,
   "metadata": {},
   "outputs": [
    {
     "name": "stdout",
     "output_type": "stream",
     "text": [
      "cid : QmUL7wDowvNk3y7KeEYFAATmz43727FwXKhBJJrqQu813a\n"
     ]
    }
   ],
   "source": [
    "cid = IPFS_API.Publish('./test.txt')\n",
    "print(\"cid : %s\" % cid)"
   ]
  },
  {
   "cell_type": "code",
   "execution_count": 25,
   "metadata": {},
   "outputs": [],
   "source": [
    "# print(IPFS_API.CatFile(cid).decode('UTF-8', 'ignore'))"
   ]
  },
  {
   "cell_type": "code",
   "execution_count": 26,
   "metadata": {},
   "outputs": [
    {
     "name": "stdout",
     "output_type": "stream",
     "text": [
      "tx_receipt : AttributeDict({'transactionHash': HexBytes('0x63ded290118fdc4404452ec099516d5c27f8112aa349846f841710492970610c'), 'transactionIndex': 0, 'blockHash': HexBytes('0xae2d0d518578ff7782d32a871d4aaea3bea2ee3f6fb1af0b6fc95c7197906ccf'), 'blockNumber': 125, 'from': '0xa508dD875f10C33C52a8abb20E16fc68E981F186', 'to': '0x1062B8605e260A4CB5ADEbB5056C631554C4F289', 'gasUsed': 829075, 'cumulativeGasUsed': 829075, 'contractAddress': None, 'logs': [], 'status': 1, 'logsBloom': HexBytes('0x00000000000000000000000000000000000000000000000000000000000000000000000000000000000000000000000000000000000000000000000000000000000000000000000000000000000000000000000000000000000000000000000000000000000000000000000000000000000000000000000000000000000000000000000000000000000000000000000000000000000000000000000000000000000000000000000000000000000000000000000000000000000000000000000000000000000000000000000000000000000000000000000000000000000000000000000000000000000000000000000000000000000000000000000000000000')})\n"
     ]
    }
   ],
   "source": [
    "new_commit_tx = contract.functions.new_commit(SELECT_PROJECT,cid,LOG).buildTransaction(tx_params)\n",
    "signed_tx = web3.eth.account.sign_transaction(new_commit_tx, private_key)\n",
    "try:\n",
    "    tx_hash = web3.eth.send_raw_transaction(signed_tx.rawTransaction)\n",
    "    tx_receipt = web3.eth.wait_for_transaction_receipt(tx_hash)\n",
    "    print (\"tx_receipt : %s\" % tx_receipt)\n",
    "except Exception as e:\n",
    "    print (str(e).split(\"\\'\")[3])"
   ]
  },
  {
   "cell_type": "code",
   "execution_count": 27,
   "metadata": {},
   "outputs": [
    {
     "name": "stdout",
     "output_type": "stream",
     "text": [
      "1. nice!!!!!!!!!!!!!!!!!!!!! , cid : QmUL7wDowvNk3y7KeEYFAATmz43727FwXKhBJJrqQu813a\n",
      "2. fgefgsrfgserfgsfdg , cid : QmUL7wDowvNk3y7KeEYFAATmz43727FwXKhBJJrqQu813a\n",
      "3. fgefgsrfgserfgsfdg , cid : QmUL7wDowvNk3y7KeEYFAATmz43727FwXKhBJJrqQu813a\n",
      "4. fgefgsrfgserfgsfdg , cid : QmUL7wDowvNk3y7KeEYFAATmz43727FwXKhBJJrqQu813a\n",
      "5. nice!!!!!!!!!!!!!!!!!!!!! , cid : QmUL7wDowvNk3y7KeEYFAATmz43727FwXKhBJJrqQu813a\n",
      "6. nice!!!!!!!!!!!!!!!!!!!!! , cid : QmUL7wDowvNk3y7KeEYFAATmz43727FwXKhBJJrqQu813a\n",
      "7. nice!!!!!!!!!!!!!!!!!!!!! , cid : QmUL7wDowvNk3y7KeEYFAATmz43727FwXKhBJJrqQu813a\n"
     ]
    }
   ],
   "source": [
    "commits = contract.functions.get_all_commit_logs(SELECT_PROJECT).call()\n",
    "\n",
    "for idx,p in enumerate(commits):\n",
    "    cid = contract.functions.get_ipfs_hash(SELECT_PROJECT,idx).call()\n",
    "    print(\"%d. %s , cid : %s\" % (idx+1,p,cid))"
   ]
  }
 ],
 "metadata": {
  "kernelspec": {
   "display_name": "Python 3 (ipykernel)",
   "language": "python",
   "name": "python3"
  },
  "orig_nbformat": 4
 },
 "nbformat": 4,
 "nbformat_minor": 2
}
