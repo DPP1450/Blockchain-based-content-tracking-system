{
 "cells": [
  {
   "cell_type": "code",
   "execution_count": 1,
   "metadata": {},
   "outputs": [],
   "source": [
    "from web3 import Web3\n",
    "import json\n",
    "web3 = Web3(Web3.HTTPProvider(\"http://localhost:8545\"))\n",
    "assert web3.isConnected()"
   ]
  },
  {
   "cell_type": "code",
   "execution_count": 2,
   "metadata": {},
   "outputs": [],
   "source": [
    "with open (\"contract/abi.json\") as f:\n",
    "    contract_abi = f.read()\n",
    "with open(\"config.json\") as f:\n",
    "    config = json.load(f)\n"
   ]
  },
  {
   "cell_type": "code",
   "execution_count": 3,
   "metadata": {},
   "outputs": [],
   "source": [
    "contract_address = config[\"contract_address\"]\n",
    "private_key = config[\"private_key1\"]"
   ]
  },
  {
   "cell_type": "code",
   "execution_count": 4,
   "metadata": {},
   "outputs": [
    {
     "name": "stdout",
     "output_type": "stream",
     "text": [
      "address : 0xa508dD875f10C33C52a8abb20E16fc68E981F186\n"
     ]
    }
   ],
   "source": [
    "contract = web3.eth.contract(address=contract_address, abi=contract_abi)\n",
    "account = web3.eth.account.from_key(private_key)\n",
    "web3.eth.default_account = account.address\n",
    "print(\"address : %s\" % account.address)\n",
    "nonce = web3.eth.getTransactionCount(account.address)"
   ]
  },
  {
   "cell_type": "code",
   "execution_count": 5,
   "metadata": {},
   "outputs": [],
   "source": [
    "tx_params = {\n",
    "    'nonce': nonce,\n",
    "    'gasPrice': web3.eth.gas_price,\n",
    "    'gas': 5000000, \n",
    "}"
   ]
  },
  {
   "cell_type": "code",
   "execution_count": 6,
   "metadata": {},
   "outputs": [
    {
     "name": "stdout",
     "output_type": "stream",
     "text": [
      "tx_receipt : AttributeDict({'transactionHash': HexBytes('0xb71410aa3eda3b8cb96a2ffd14a9f4d5ed710975a2e7404ce79b367567d8daba'), 'transactionIndex': 0, 'blockHash': HexBytes('0xac010c1c4637348ef0d121ad912245993374c1df1d9ee4cfd5add560e35cc7ce'), 'blockNumber': 152, 'from': '0xa508dD875f10C33C52a8abb20E16fc68E981F186', 'to': '0x1bf51d06070d22b2B66F06DAeeB96A8708D5090A', 'gasUsed': 1405120, 'cumulativeGasUsed': 1405120, 'contractAddress': None, 'logs': [], 'status': 1, 'logsBloom': HexBytes('0x00000000000000000000000000000000000000000000000000000000000000000000000000000000000000000000000000000000000000000000000000000000000000000000000000000000000000000000000000000000000000000000000000000000000000000000000000000000000000000000000000000000000000000000000000000000000000000000000000000000000000000000000000000000000000000000000000000000000000000000000000000000000000000000000000000000000000000000000000000000000000000000000000000000000000000000000000000000000000000000000000000000000000000000000000000000')})\n"
     ]
    }
   ],
   "source": [
    "new_project_tx = contract.functions.new_project(\"project1\").buildTransaction(tx_params)\n",
    "signed_tx = web3.eth.account.sign_transaction(new_project_tx, private_key)\n",
    "try:\n",
    "    tx_hash = web3.eth.send_raw_transaction(signed_tx.rawTransaction)\n",
    "    tx_receipt = web3.eth.wait_for_transaction_receipt(tx_hash)\n",
    "    print (\"tx_receipt : %s\" % tx_receipt)\n",
    "except Exception as e:\n",
    "    print (str(e).split(\"\\'\")[3])"
   ]
  },
  {
   "cell_type": "code",
   "execution_count": 7,
   "metadata": {},
   "outputs": [
    {
     "name": "stdout",
     "output_type": "stream",
     "text": [
      "1. project1\n"
     ]
    }
   ],
   "source": [
    "projects = contract.functions.get_all_projects_name().call()\n",
    "\n",
    "for idx,p in enumerate(projects):\n",
    "    print(\"%d. %s\" % (idx+1,p))"
   ]
  },
  {
   "cell_type": "code",
   "execution_count": 8,
   "metadata": {},
   "outputs": [],
   "source": [
    "# cid = IPFS_API.Publish('./test.txt')\n",
    "# print(cid)\n",
    "# print(IPFS_API.CatFile(cid).decode('UTF-8', 'ignore'))"
   ]
  }
 ],
 "metadata": {
  "kernelspec": {
   "display_name": "Python 3 (ipykernel)",
   "language": "python",
   "name": "python3"
  },
  "language_info": {
   "codemirror_mode": {
    "name": "ipython",
    "version": 3
   },
   "file_extension": ".py",
   "mimetype": "text/x-python",
   "name": "python",
   "nbconvert_exporter": "python",
   "pygments_lexer": "ipython3",
   "version": "3.9.16"
  },
  "orig_nbformat": 4
 },
 "nbformat": 4,
 "nbformat_minor": 2
}
