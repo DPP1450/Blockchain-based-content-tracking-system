{
 "cells": [
  {
   "cell_type": "code",
   "execution_count": null,
   "metadata": {},
   "outputs": [],
   "source": [
    "from web3 import Web3\n",
    "web3 = Web3(Web3.HTTPProvider(\"http://localhost:8545\"))\n",
    "assert web3.isConnected()"
   ]
  },
  {
   "cell_type": "code",
   "execution_count": null,
   "metadata": {},
   "outputs": [],
   "source": [
    "contract_address = \"0x296fabA7AaA551Ee39CD9Ce6710b2Bca1feD27a9\"\n",
    "with open (\"./abi.json\") as f:\n",
    "    contract_abi = f.read()\n",
    "contract = web3.eth.contract(address=contract_address, abi=contract_abi)"
   ]
  },
  {
   "cell_type": "code",
   "execution_count": null,
   "metadata": {},
   "outputs": [],
   "source": [
    "private_key = \"0x22aabb811efca4e6f4748bd18a46b502fa85549df9fa07da649c0a148d7d5530\"\n",
    "account = web3.eth.account.from_key(private_key)\n",
    "web3.eth.default_account = account.address\n",
    "print(\"address : %s\" % account.address)\n",
    "nonce = web3.eth.getTransactionCount(account.address)"
   ]
  },
  {
   "cell_type": "code",
   "execution_count": null,
   "metadata": {},
   "outputs": [],
   "source": [
    "contract.functions.get_users().call()"
   ]
  },
  {
   "cell_type": "code",
   "execution_count": null,
   "metadata": {},
   "outputs": [],
   "source": [
    "tx_params = {\n",
    "    'nonce': nonce,\n",
    "    'gasPrice': web3.eth.gas_price,\n",
    "    'gas': 5000000, \n",
    "}"
   ]
  },
  {
   "cell_type": "code",
   "execution_count": null,
   "metadata": {},
   "outputs": [],
   "source": [
    "sign_up_tx = contract.functions.sign_up(\"123\").buildTransaction(tx_params)\n",
    "signed_tx = web3.eth.account.sign_transaction(sign_up_tx, private_key)\n",
    "tx_hash = web3.eth.send_raw_transaction(signed_tx.rawTransaction)\n",
    "tx_receipt = web3.eth.wait_for_transaction_receipt(tx_hash)\n",
    "print (\"tx_receipt : %s\" % tx_receipt)\n"
   ]
  }
 ],
 "metadata": {
  "kernelspec": {
   "display_name": "base",
   "language": "python",
   "name": "python3"
  },
  "language_info": {
   "codemirror_mode": {
    "name": "ipython",
    "version": 3
   },
   "file_extension": ".py",
   "mimetype": "text/x-python",
   "name": "python",
   "nbconvert_exporter": "python",
   "pygments_lexer": "ipython3",
   "version": "3.9.16"
  },
  "orig_nbformat": 4
 },
 "nbformat": 4,
 "nbformat_minor": 2
}
