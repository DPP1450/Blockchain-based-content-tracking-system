{
 "cells": [
  {
   "cell_type": "code",
   "execution_count": 1,
   "metadata": {},
   "outputs": [],
   "source": [
    "from web3 import Web3\n",
    "import json\n",
    "web3 = Web3(Web3.HTTPProvider(\"http://localhost:8545\"))\n",
    "assert web3.isConnected()"
   ]
  },
  {
   "cell_type": "code",
   "execution_count": 2,
   "metadata": {},
   "outputs": [],
   "source": [
    "with open (\"contract/abi.json\") as f:\n",
    "    contract_abi = f.read()\n",
    "with open(\"config.json\") as f:\n",
    "    config = json.load(f)\n",
    "contract_address = config[\"contract_address\"]\n",
    "contract = web3.eth.contract(address=contract_address, abi=contract_abi)"
   ]
  },
  {
   "cell_type": "code",
   "execution_count": 3,
   "metadata": {},
   "outputs": [
    {
     "name": "stdout",
     "output_type": "stream",
     "text": [
      "address : 0xa508dD875f10C33C52a8abb20E16fc68E981F186\n"
     ]
    }
   ],
   "source": [
    "private_key = \"0x22aabb811efca4e6f4748bd18a46b502fa85549df9fa07da649c0a148d7d5530\"\n",
    "account = web3.eth.account.from_key(private_key)\n",
    "web3.eth.default_account = account.address\n",
    "print(\"address : %s\" % account.address)\n",
    "nonce = web3.eth.getTransactionCount(account.address)"
   ]
  },
  {
   "cell_type": "code",
   "execution_count": 4,
   "metadata": {},
   "outputs": [],
   "source": [
    "tx_params = {\n",
    "    'nonce': nonce,\n",
    "    'gasPrice': web3.eth.gas_price,\n",
    "    'gas': 5000000, \n",
    "}"
   ]
  },
  {
   "cell_type": "code",
   "execution_count": 5,
   "metadata": {},
   "outputs": [
    {
     "name": "stdout",
     "output_type": "stream",
     "text": [
      "tx_receipt : AttributeDict({'transactionHash': HexBytes('0xe83b5854d82962e2813a25f14f6b594a8388ca8f231d0c1d0aca95fd2ac4a020'), 'transactionIndex': 0, 'blockHash': HexBytes('0x84b3306074942f337c7f3bc8ca00788c6dbe871bf167d8fb51faa256717c436e'), 'blockNumber': 151, 'from': '0xa508dD875f10C33C52a8abb20E16fc68E981F186', 'to': '0x1bf51d06070d22b2B66F06DAeeB96A8708D5090A', 'gasUsed': 2412338, 'cumulativeGasUsed': 2412338, 'contractAddress': None, 'logs': [], 'status': 1, 'logsBloom': HexBytes('0x00000000000000000000000000000000000000000000000000000000000000000000000000000000000000000000000000000000000000000000000000000000000000000000000000000000000000000000000000000000000000000000000000000000000000000000000000000000000000000000000000000000000000000000000000000000000000000000000000000000000000000000000000000000000000000000000000000000000000000000000000000000000000000000000000000000000000000000000000000000000000000000000000000000000000000000000000000000000000000000000000000000000000000000000000000000')})\n"
     ]
    }
   ],
   "source": [
    "sign_up_tx = contract.functions.sign_up(\"yihuai\").buildTransaction(tx_params)\n",
    "signed_tx = web3.eth.account.sign_transaction(sign_up_tx, private_key)\n",
    "try:\n",
    "    tx_hash = web3.eth.send_raw_transaction(signed_tx.rawTransaction)\n",
    "    tx_receipt = web3.eth.wait_for_transaction_receipt(tx_hash)\n",
    "    print (\"tx_receipt : %s\" % tx_receipt)\n",
    "except Exception as e:\n",
    "    print (str(e).split(\"\\'\")[3])"
   ]
  },
  {
   "cell_type": "code",
   "execution_count": 6,
   "metadata": {},
   "outputs": [
    {
     "data": {
      "text/plain": [
       "['yihuai']"
      ]
     },
     "execution_count": 6,
     "metadata": {},
     "output_type": "execute_result"
    }
   ],
   "source": [
    "contract.functions.get_users().call()"
   ]
  }
 ],
 "metadata": {
  "kernelspec": {
   "display_name": "Python 3 (ipykernel)",
   "language": "python",
   "name": "python3"
  },
  "language_info": {
   "codemirror_mode": {
    "name": "ipython",
    "version": 3
   },
   "file_extension": ".py",
   "mimetype": "text/x-python",
   "name": "python",
   "nbconvert_exporter": "python",
   "pygments_lexer": "ipython3",
   "version": "3.9.16"
  },
  "orig_nbformat": 4
 },
 "nbformat": 4,
 "nbformat_minor": 2
}
